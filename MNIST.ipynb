{
  "nbformat": 4,
  "nbformat_minor": 0,
  "metadata": {
    "colab": {
      "name": "MNIST.ipynb",
      "provenance": [],
      "collapsed_sections": [],
      "authorship_tag": "ABX9TyMEenAE89kWEiaQcVSacZEi",
      "include_colab_link": true
    },
    "kernelspec": {
      "name": "python3",
      "display_name": "Python 3"
    },
    "accelerator": "GPU"
  },
  "cells": [
    {
      "cell_type": "markdown",
      "metadata": {
        "id": "view-in-github",
        "colab_type": "text"
      },
      "source": [
        "<a href=\"https://colab.research.google.com/github/seungjae6874/Deeplearning/blob/master/MNIST.ipynb\" target=\"_parent\"><img src=\"https://colab.research.google.com/assets/colab-badge.svg\" alt=\"Open In Colab\"/></a>"
      ]
    },
    {
      "cell_type": "code",
      "metadata": {
        "id": "IbcUYUAxKGZA",
        "colab_type": "code",
        "colab": {
          "base_uri": "https://localhost:8080/",
          "height": 125
        },
        "outputId": "7b08292b-8ac7-440e-ddca-6e92c5f20a02"
      },
      "source": [
        "\n",
        "import torch\n",
        "import torchvision.datasets as dsets\n",
        "import torchvision.transforms as transforms\n",
        "import matplotlib.pyplot as plt\n",
        "import torch.nn.init\n",
        "import random\n",
        "\n",
        "device = 'cuda' if torch.cuda.is_available() else 'cpu'\n",
        "\n",
        "#랜덤 시드 고정\n",
        "torch.manual_seed(777)\n",
        "\n",
        "#GPU 사용가능이면 랜덤 시드 고정\n",
        "if device == 'cuda':\n",
        "  torch.cuda.manual_seed_all(777)\n",
        "\n",
        "learning_rate = 0.001\n",
        "training_epochs = 15 #전체 데이터를 15번 사용해서 학습시키겠다는 의미\n",
        "batch_size = 100 # 한번 batch할때 학습시킬 데이터의 수를 의미, iteration은 epoch를 나누어서 실행하는 수이다\n",
        "#ex epoch = 20이면 전체 데이터를 총 20번 반복해서 학습한다는 뜻이고 \n",
        "#만약 iteration이 4이면 총 epoch를 20번 돌기위해 반복문을 4번 돌리는 것이고 한번 돌릴 때 즉 5번의 전체 데이터셋을 사용한다는 의미\n",
        "\n",
        "#데이터로더를 사용하여 데이터를 다루기 위해 데이터셋 정의\n",
        "\n",
        "mnist_train = dsets.MNIST(root='MNIST_data/', #다운로드 경로 지정\n",
        "                          train = True, #True로 하면 훈련 데이터로 다운받게 된다,즉 FALSE이면 훈련데이터 다운 안받음\n",
        "                           transform=transforms.ToTensor(), #텐서로 변환\n",
        "                          download = True)\n",
        "\n",
        "mnist_test = dsets.MNIST(root = 'MNIST_data/',\n",
        "                        train = False,\n",
        "                        transform=transforms.ToTensor(),\n",
        "                        download = True)\n",
        "#데이터로더를 사용하여 배치크기를 지정해준다. 만약 데이터셋과 데이터로더가 기억이 안나면 '미니배치와 데이터로드'복습\n",
        "\n",
        "down_loader = torch.utils.data.DataLoader(dataset=mnist_train,\n",
        "                                          batch_size = batch_size,\n",
        "                                          shuffle=True,\n",
        "                                          drop_last = True) #drop_last는 마지막에 남는 데이터는 버림\n",
        "#클래스 모델 설계 (conv + maxpool + fc)\n",
        "\n",
        "class CNN(torch.nn.Module):\n",
        "  \n",
        "  def __init__(self):\n",
        "    super(CNN,self).__init__()\n",
        "    #첫번째 층\n",
        "    #Img input shape(?,28,28,1)\n",
        "    #CONV -> (?28,28,32)\n",
        "    #POOL -> (?, 14,14,32)\n",
        "    self.layer1 = torch.nn.Sequential(\n",
        "        torch.nn.Conv2d(1,32,kernel_size = 3, stride = 1, padding = 1), #kernel_size는 filter의 너비,높이사이즈 이다 3 * 3\n",
        "        torch.nn.ReLU(),\n",
        "        torch.nn.MaxPool2d(kernel_size = 2, stride = 2)\n",
        "    )\n",
        "\n",
        "    #2번째 층\n",
        "    #Img input shape(?,14,14,32)\n",
        "    #Conv-> (?,14,14,64)\n",
        "    #POOL -> (?,7,7,64)\n",
        "    self.layer2 = torch.nn.Sequential(\n",
        "        torch.nn.Conv2d(32,64, kernel_size = 3, stride = 1, padding = 1),\n",
        "        torch.nn.ReLU(),\n",
        "        torch.nn.MaxPool2d(kernel_size = 2, stride = 2)\n",
        "    )\n",
        "\n",
        "    #FC층 7*7*64 -> 10output으로\n",
        "    self.fc = torch.nn.Linear(7*7*64,10,bias = True)\n",
        "\n",
        "    #FC층 한정으로 가중치 초기화\n",
        "    torch.nn.init.xavier_uniform_(self.fc.weight)\n",
        "    \n",
        "    def forward(self, x):\n",
        "        out = self.layer1(x)\n",
        "        out = self.layer2(out)\n",
        "        out = out.view(out.size(0),-1)\n",
        "        out = self.fc(out)\n",
        "        return out\n",
        "    \n",
        "model = CNN().to(device)\n",
        "linear = torch.nn.Linear(784,10,bias = True).to(device)\n",
        "\n",
        "criterion = torch.nn.CrossEntropyLoss().to(device) #비용함수에 소프트맥스가 포함\n",
        "optimizer = torch.optim.Adam(linear.parameters(), lr = learning_rate)\n",
        "\n",
        "#총 배치 수 출력\n",
        "total_batch = len(down_loader)\n",
        "print('총 배치의 수 : {}'.format(total_batch))\n",
        "\n",
        "\n",
        "for epoch in range(training_epochs):\n",
        "    avg_cost = 0\n",
        "    \n",
        "    for X, Y in down_loader:\n",
        "        X = X.view(-1,28*28).to(device)\n",
        "        Y = Y.to(device)\n",
        "        \n",
        "        optimizer.zero_grad()\n",
        "        hypothesis = linear(X)\n",
        "        cost = criterion(hypothesis,Y)\n",
        "        cost.backward()\n",
        "        optimizer.step()\n",
        "        \n",
        "        avg_cost += cost / total_batch\n",
        "        \n",
        "    print('[Epoch: {:>4}] cost = {:>.9f}'.format(epoch + 1, avg_cost))\n",
        "\n",
        "\n",
        "print('Learning Finished!')"
      ],
      "execution_count": 0,
      "outputs": [
        {
          "output_type": "stream",
          "text": [
            "[Epoch:    1] cost = 0.611851156\n",
            "[Epoch:    2] cost = 0.344383001\n",
            "[Epoch:    3] cost = 0.308516204\n",
            "[Epoch:    4] cost = 0.291695327\n",
            "[Epoch:    5] cost = 0.281251431\n",
            "[Epoch:    6] cost = 0.274430633\n"
          ],
          "name": "stdout"
        }
      ]
    },
    {
      "cell_type": "code",
      "metadata": {
        "id": "Ijm-8KyqRLg8",
        "colab_type": "code",
        "colab": {}
      },
      "source": [
        ""
      ],
      "execution_count": 0,
      "outputs": []
    }
  ]
}