{
  "nbformat": 4,
  "nbformat_minor": 0,
  "metadata": {
    "colab": {
      "name": "Mnist.ipynb",
      "provenance": [],
      "collapsed_sections": [],
      "authorship_tag": "ABX9TyO00xK1Fe89tKAkxxNXaA6n",
      "include_colab_link": true
    },
    "kernelspec": {
      "name": "python3",
      "display_name": "Python 3"
    },
    "accelerator": "GPU"
  },
  "cells": [
    {
      "cell_type": "markdown",
      "metadata": {
        "id": "view-in-github",
        "colab_type": "text"
      },
      "source": [
        "<a href=\"https://colab.research.google.com/github/seungjae6874/Deeplearning/blob/master/Mnist.ipynb\" target=\"_parent\"><img src=\"https://colab.research.google.com/assets/colab-badge.svg\" alt=\"Open In Colab\"/></a>"
      ]
    },
    {
      "cell_type": "code",
      "metadata": {
        "id": "x1rR9Go1CsYF",
        "colab_type": "code",
        "colab": {
          "base_uri": "https://localhost:8080/",
          "height": 100
        },
        "outputId": "04fcba2d-4304-4172-bd1a-d16f284d6dee"
      },
      "source": [
        "!pip3 install http://download.pytorch.org/whl/cu80/torch-0.3.0.post4-cp36-cp36m-linux_x86_64.whl\n",
        "!pip3 install torchvision\n",
        "\n",
        "import torch\n",
        "import torch.nn as nn\n",
        "#배치크기 * 채널* 높이 * 너비의 크기의 텐서를 선언 이름은 inputs\n",
        "inputs = torch.Tensor(1,1,28,28)\n",
        "print('텐서의 크기 : {}'.format(inputs.shape))\n",
        "\n",
        "# 첫번째 합성곱 층 1채널짜리 입력받아서 32채널 뽑아낸다. 커널 사이즈 = 3, 패딩은 1\n",
        "conv1 = nn.Conv2d(1,32,3,padding=1)\n",
        "print(conv1)\n",
        "\n",
        "#2번째 합성곱 층 구현 32채널 짜리를 1층의 합성곱 연산을 통해받은 결과를 입력 받아 64채널로 뽑아내고 커널은 3 패딩은 1\n",
        "conv2 = nn.Conv2d(32,64,kernel_size=3, padding=1)\n",
        "print(conv2)\n",
        "\n",
        "#맥스풀링층을 구현 -> 높이 너비는 절반이고 채널은 그대로 유지\n",
        "pool = nn.MaxPool2d(2) #정수를 하나만 넣으면 그 값으로 커널사이즈, 스트라이드 둘다 지정됨\n",
        "print(pool)\n",
        "\n",
        "#구현체를 연결해서 합성곱 + 맥스풀링으로 모델 만들기\n",
        "\n",
        "#합성곱 1단계에 inputs 즉 mnist 넣기\n",
        "out = conv1(inputs)\n",
        "print(\"첫번째 합성곱 층을 지난 후 결과 : \")\n",
        "print(out.shape)\n",
        "\n",
        "#맥스풀링층\n",
        "out = pool(out)\n",
        "print(\"첫번째 맥스 풀링층을 지난 후 결과 : \")\n",
        "print(out)\n",
        "\n",
        "#다시 이제 두번째 합성곱\n",
        "out = conv2(out)\n",
        "print(\"두번째 합성곱 층을 지난 후 결과 : \")\n",
        "print(out.shape)\n",
        "\n",
        "#다시 풀링층\n",
        "out = pool(out)\n",
        "print(\"두번째 맥스풀링층을 지난 후 결과 : \")\n",
        "print(out)\n"
      ],
      "execution_count": 0,
      "outputs": [
        {
          "output_type": "stream",
          "text": [
            "Collecting torch==0.3.0.post4\n",
            "\u001b[?25l  Downloading http://download.pytorch.org/whl/cu80/torch-0.3.0.post4-cp36-cp36m-linux_x86_64.whl (592.3MB)\n",
            "\u001b[K     |████████████████████████████████| 592.3MB 164.0MB/s \n"
          ],
          "name": "stdout"
        }
      ]
    }
  ]
}